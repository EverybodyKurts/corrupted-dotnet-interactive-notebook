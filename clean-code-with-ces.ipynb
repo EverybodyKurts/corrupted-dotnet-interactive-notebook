{
  "cells": [
    {
      "cell_type": "markdown",
      "source": [
        "# Clean code with F#'s computation expressions"
      ],
      "metadata": {}
    },
    {
      "cell_type": "code",
      "source": [
        "#!fsharp\n",
        "// Stolen shamelessly from Scott Wlaschin:\n",
        "// https://fsharpforfunandprofit.com/posts/convenience-active-patterns/\n",
        "module Float =\n",
        "    let parse (input: string) =\n",
        "        match System.Double.TryParse(input) with\n",
        "        | (true, num) -> Some(num)\n",
        "        | _ -> None\n",
        "\n",
        "Float.parse \"3.14\""
      ],
      "outputs": [
        {
          "output_type": "execute_result",
          "execution_count": 1,
          "data": {
            "text/html": "<table><thead><tr><th>Value</th></tr></thead><tbody><tr><td><div class=\"dni-plaintext\">3.14</div></td></tr></tbody></table>"
          },
          "metadata": {}
        }
      ],
      "execution_count": 1,
      "metadata": {}
    },
    {
      "cell_type": "code",
      "source": [
        "#!fsharp\n",
        "Float.parse \"Foo\" // #=> None"
      ],
      "outputs": [
        {
          "output_type": "execute_result",
          "execution_count": 1,
          "data": {},
          "metadata": {}
        }
      ],
      "execution_count": 1,
      "metadata": {}
    },
    {
      "cell_type": "code",
      "source": [
        "#!fsharp\n",
        "let parseAge (age: float) =\n",
        "    if 0.0 <= age && age <= 120.0 then Some(age) // the upper limit is 120 because some lady just turned 118!\n",
        "    else None\n",
        "\n",
        "Float.parse \"25.9\"\n",
        "    |> Option.bind parseAge"
      ],
      "outputs": [
        {
          "output_type": "execute_result",
          "execution_count": 1,
          "data": {
            "text/html": "<table><thead><tr><th>Value</th></tr></thead><tbody><tr><td><div class=\"dni-plaintext\">25.9</div></td></tr></tbody></table>"
          },
          "metadata": {}
        }
      ],
      "execution_count": 1,
      "metadata": {}
    },
    {
      "cell_type": "markdown",
      "source": [
        "Interestingly, the counterpart function in the `Elm` language is `Maybe.andThen`, which I think has more *motivational transparency* in its name - this code reads in a value `andThen` `Maybe` does something else with it."
      ],
      "metadata": {}
    }
  ],
  "metadata": {
    "kernelspec": {
      "display_name": ".NET (C#)",
      "language": "C#",
      "name": ".net-csharp"
    },
    "language_info": {
      "file_extension": ".cs",
      "mimetype": "text/x-csharp",
      "name": "C#",
      "pygments_lexer": "csharp",
      "version": "8.0"
    },
    "nteract": {
      "version": "0.26.0"
    }
  },
  "nbformat": 4,
  "nbformat_minor": 4
}